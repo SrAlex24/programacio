{
 "cells": [
  {
   "cell_type": "markdown",
   "id": "ee662308",
   "metadata": {},
   "source": [
    "# Operacions matematiques simples"
   ]
  },
  {
   "cell_type": "markdown",
   "id": "4cc30775",
   "metadata": {},
   "source": [
    "### Suma"
   ]
  },
  {
   "cell_type": "markdown",
   "id": "f73f2f08",
   "metadata": {},
   "source": [
    "##### Aqui fem una suma simple"
   ]
  },
  {
   "cell_type": "code",
   "execution_count": 1,
   "id": "d6cb0bba",
   "metadata": {},
   "outputs": [
    {
     "name": "stdout",
     "output_type": "stream",
     "text": [
      "15\n"
     ]
    }
   ],
   "source": [
    "a = 5\n",
    "b = 10\n",
    "c = a + b\n",
    "\n",
    "print(c)"
   ]
  },
  {
   "cell_type": "markdown",
   "id": "fce3e9de",
   "metadata": {},
   "source": [
    "### Resta"
   ]
  },
  {
   "cell_type": "markdown",
   "id": "f9f8b197",
   "metadata": {},
   "source": [
    "##### Aqui fem una resta simple"
   ]
  },
  {
   "cell_type": "code",
   "execution_count": 2,
   "id": "7bc34ea9",
   "metadata": {},
   "outputs": [
    {
     "name": "stdout",
     "output_type": "stream",
     "text": [
      "8\n"
     ]
    }
   ],
   "source": [
    "a = 15\n",
    "b = 7\n",
    "c = a - b\n",
    "\n",
    "print(c)"
   ]
  },
  {
   "cell_type": "markdown",
   "id": "289dd497",
   "metadata": {},
   "source": [
    "### Multiplicacio"
   ]
  },
  {
   "cell_type": "markdown",
   "id": "83e66e25",
   "metadata": {},
   "source": [
    "##### Aqui fem una multiplicacio simple"
   ]
  },
  {
   "cell_type": "code",
   "execution_count": 3,
   "id": "b1ae83b4",
   "metadata": {},
   "outputs": [
    {
     "name": "stdout",
     "output_type": "stream",
     "text": [
      "30\n"
     ]
    }
   ],
   "source": [
    "a = 5\n",
    "b = 6\n",
    "c = a * b\n",
    "\n",
    "print(c)"
   ]
  },
  {
   "cell_type": "markdown",
   "id": "ecc2fc2c",
   "metadata": {},
   "source": [
    "### Divisio"
   ]
  },
  {
   "cell_type": "markdown",
   "id": "79bfef49",
   "metadata": {},
   "source": [
    "##### Aqui fem una divisio simple"
   ]
  },
  {
   "cell_type": "code",
   "execution_count": 4,
   "id": "4ecb2f43",
   "metadata": {},
   "outputs": [
    {
     "name": "stdout",
     "output_type": "stream",
     "text": [
      "2.5\n"
     ]
    }
   ],
   "source": [
    "a = 10\n",
    "b = 4\n",
    "c = a / b\n",
    "\n",
    "print(c)"
   ]
  },
  {
   "cell_type": "markdown",
   "id": "671eb070",
   "metadata": {},
   "source": [
    "### Llistes i estils"
   ]
  },
  {
   "cell_type": "markdown",
   "id": "56b2f780",
   "metadata": {},
   "source": [
    "- *jupyter*"
   ]
  },
  {
   "cell_type": "markdown",
   "id": "73f25838",
   "metadata": {},
   "source": [
    "- **jupyter**"
   ]
  },
  {
   "cell_type": "markdown",
   "id": "b5367d0f",
   "metadata": {},
   "source": [
    "- ~~jupyter~~"
   ]
  },
  {
   "cell_type": "markdown",
   "id": "42eeb075",
   "metadata": {},
   "source": [
    "![alt text](60a33cb80869e.jpeg)"
   ]
  },
  {
   "cell_type": "markdown",
   "id": "d5066d75",
   "metadata": {},
   "source": [
    "### Link GitHub"
   ]
  },
  {
   "cell_type": "markdown",
   "id": "f9b536f5",
   "metadata": {},
   "source": [
    "https://github.com/SrAlex24/programacio/upload/main/Exercicis"
   ]
  }
 ],
 "metadata": {
  "kernelspec": {
   "display_name": "Python 3",
   "language": "python",
   "name": "python3"
  },
  "language_info": {
   "codemirror_mode": {
    "name": "ipython",
    "version": 3
   },
   "file_extension": ".py",
   "mimetype": "text/x-python",
   "name": "python",
   "nbconvert_exporter": "python",
   "pygments_lexer": "ipython3",
   "version": "3.12.6"
  }
 },
 "nbformat": 4,
 "nbformat_minor": 5
}
